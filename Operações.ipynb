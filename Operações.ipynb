{
 "cells": [
  {
   "cell_type": "code",
   "execution_count": 1,
   "id": "6eedb6ad",
   "metadata": {},
   "outputs": [],
   "source": [
    "import MetaTrader5 as mt5\n",
    "import time\n",
    "\n",
    "def enviar_ordem(symbol, volume, tipo_ordem, comentario=\"Ordem via Python\", numero_magico=999):\n",
    "    print(f\"Tentando enviar ordem: {comentario} | Ativo: {symbol} | Volume: {volume}\")\n",
    "\n",
    "    # 1. Inicializa conexão\n",
    "    if not mt5.initialize():\n",
    "        print(\"Erro ao iniciar conexão com MetaTrader 5:\", mt5.last_error())\n",
    "        return False\n",
    "\n",
    "    try:\n",
    "        # 2. Verifica se a negociação está permitida\n",
    "        terminal = mt5.terminal_info()\n",
    "        if terminal is None:\n",
    "            print(\"ERRO: Não foi possível obter informações do terminal.\")\n",
    "            return False\n",
    "\n",
    "        if not terminal.trade_allowed:\n",
    "            print(\"ERRO: A negociação automatizada está desativada no MetaTrader 5.\")\n",
    "            print(\"Ative o botão 'AutoTrading' e tente novamente.\")\n",
    "            return False\n",
    "\n",
    "        # 3. Verifica se o ativo existe e está visível\n",
    "        symbol_info = mt5.symbol_info(symbol)\n",
    "        if symbol_info is None:\n",
    "            print(f\"O ativo '{symbol}' não foi encontrado.\")\n",
    "            return False\n",
    "\n",
    "        if not symbol_info.visible:\n",
    "            if not mt5.symbol_select(symbol, True):\n",
    "                print(f\"Erro ao adicionar '{symbol}' à Observação de Mercado.\")\n",
    "                return False\n",
    "            time.sleep(1)\n",
    "\n",
    "        # 4. Pega o preço de mercado\n",
    "        tick = mt5.symbol_info_tick(symbol)\n",
    "        if tick is None:\n",
    "            print(f\"Erro ao obter tick para o ativo '{symbol}'.\")\n",
    "            return False\n",
    "\n",
    "        price = tick.ask if tipo_ordem == mt5.ORDER_TYPE_BUY else tick.bid\n",
    "        if price == 0:\n",
    "            print(f\"Preço inválido para o ativo '{symbol}'. Verifique a liquidez ou se o mercado está aberto.\")\n",
    "            return False\n",
    "\n",
    "        # 5. Monta o request\n",
    "        request = {\n",
    "            \"action\": mt5.TRADE_ACTION_DEAL,\n",
    "            \"symbol\": symbol,\n",
    "            \"volume\": float(volume),\n",
    "            \"type\": tipo_ordem,\n",
    "            \"price\": price,\n",
    "            \"deviation\": 20,\n",
    "            \"magic\": numero_magico,\n",
    "            \"comment\": comentario,\n",
    "            \"type_time\": mt5.ORDER_TIME_GTC,\n",
    "            \"type_filling\": mt5.ORDER_FILLING_IOC,  # IOC é mais aceito que FOK\n",
    "        }\n",
    "\n",
    "        # 6. Envia a ordem\n",
    "        result = mt5.order_send(request)\n",
    "\n",
    "        # 7. Trata o resultado\n",
    "        if result.retcode != mt5.TRADE_RETCODE_DONE:\n",
    "            print(\"--- FALHA AO ENVIAR ORDEM ---\")\n",
    "            print(\"Retcode:\", result.retcode)\n",
    "            print(\"Mensagem:\", result.comment)\n",
    "            print(\"Detalhes:\", result)\n",
    "            return False\n",
    "\n",
    "        print(\"--- ORDEM ENVIADA COM SUCESSO ---\")\n",
    "        print(f\"Ticket: {result.order} | Preço: {result.price} | Volume: {result.volume}\")\n",
    "        return True\n",
    "\n",
    "    finally:\n",
    "        mt5.shutdown()\n"
   ]
  },
  {
   "cell_type": "code",
   "execution_count": 14,
   "id": "8afe92ee",
   "metadata": {},
   "outputs": [
    {
     "name": "stdout",
     "output_type": "stream",
     "text": [
      "Conectado com sucesso!\n",
      "TerminalInfo(community_account=True, community_connection=True, connected=True, dlls_allowed=False, trade_allowed=True, tradeapi_disabled=False, email_enabled=False, ftp_enabled=False, notifications_enabled=False, mqid=False, build=5120, maxbars=100000, codepage=1252, ping_last=122831, community_balance=0.0, retransmission=0.3536141445657826, company='MetaQuotes Ltd.', name='MetaTrader 5', language='Portuguese (Brazil)', path='C:\\\\Program Files\\\\MetaTrader 5', data_path='C:\\\\Users\\\\dimit\\\\AppData\\\\Roaming\\\\MetaQuotes\\\\Terminal\\\\D0E8209F77C8CF37AD8BF550E51FF075', commondata_path='C:\\\\Users\\\\dimit\\\\AppData\\\\Roaming\\\\MetaQuotes\\\\Terminal\\\\Common')\n"
     ]
    }
   ],
   "source": [
    "import MetaTrader5 as mt5\n",
    "\n",
    "if not mt5.initialize():\n",
    "    print(\"Erro ao iniciar MT5:\", mt5.last_error())\n",
    "else:\n",
    "    info = mt5.terminal_info()\n",
    "    print(\"Conectado com sucesso!\")\n",
    "    print(info)\n",
    "    mt5.shutdown()\n"
   ]
  },
  {
   "cell_type": "code",
   "execution_count": 17,
   "id": "61eb8c04",
   "metadata": {},
   "outputs": [
    {
     "name": "stdout",
     "output_type": "stream",
     "text": [
      "Tentando enviar ordem: 1. Compra de Acao | Ativo: PETR4 | Volume: 100.0\n",
      "--- ORDEM ENVIADA COM SUCESSO ---\n",
      "Ticket: 2132755999 | Preço: 31.5 | Volume: 100.0\n"
     ]
    },
    {
     "data": {
      "text/plain": [
       "True"
      ]
     },
     "execution_count": 17,
     "metadata": {},
     "output_type": "execute_result"
    }
   ],
   "source": [
    "# --- Parâmetros Editáveis ---\n",
    "ativo_acao = \"PETR4\"\n",
    "volume_compra = 100.0\n",
    "# ----------------------------\n",
    "enviar_ordem(\n",
    "    symbol=ativo_acao,\n",
    "    volume=volume_compra,\n",
    "    tipo_ordem=mt5.ORDER_TYPE_BUY,\n",
    "    comentario=\"1. Compra de Acao\"\n",
    ")"
   ]
  },
  {
   "cell_type": "code",
   "execution_count": 19,
   "id": "8a5c1d30",
   "metadata": {},
   "outputs": [
    {
     "name": "stdout",
     "output_type": "stream",
     "text": [
      "Tentando enviar ordem: 2. Venda de Acao | Ativo: VALE3 | Volume: 100\n",
      "--- ORDEM ENVIADA COM SUCESSO ---\n",
      "Ticket: 2132769528 | Preço: 51.99 | Volume: 100.0\n"
     ]
    },
    {
     "data": {
      "text/plain": [
       "True"
      ]
     },
     "execution_count": 19,
     "metadata": {},
     "output_type": "execute_result"
    }
   ],
   "source": [
    "# --- Parâmetros Editáveis ---\n",
    "ativo_acao = \"VALE3\"\n",
    "volume_venda = 100\n",
    "# ----------------------------\n",
    "enviar_ordem(\n",
    "    symbol=ativo_acao,\n",
    "    volume=volume_venda,\n",
    "    tipo_ordem=mt5.ORDER_TYPE_SELL,\n",
    "    comentario=\"2. Venda de Acao\"\n",
    ")"
   ]
  },
  {
   "cell_type": "code",
   "execution_count": 8,
   "id": "d69a9160",
   "metadata": {},
   "outputs": [
    {
     "name": "stdout",
     "output_type": "stream",
     "text": [
      "Tentando enviar ordem: 3. Compra de Call | Ativo: PETR3F | Volume: 2\n",
      "--- ORDEM ENVIADA COM SUCESSO ---\n",
      "Ticket: 2134547996 | Preço: 33.89 | Volume: 2.0\n"
     ]
    },
    {
     "data": {
      "text/plain": [
       "True"
      ]
     },
     "execution_count": 8,
     "metadata": {},
     "output_type": "execute_result"
    }
   ],
   "source": [
    "# --- Parâmetros Editáveis ---\n",
    "# ATENÇÃO: O ticker da opção muda constantemente! Verifique o ticker vigente no seu MT5.\n",
    "# Exemplo para JULHO/25: PETRG400 (PETR4, G=Julho, Call, strike R$40.00)\n",
    "ticker_call = \"PETR3F\"\n",
    "quantidade_opcoes = 2\n",
    "# ----------------------------\n",
    "enviar_ordem(\n",
    "    symbol=ticker_call,\n",
    "    volume=quantidade_opcoes,\n",
    "    tipo_ordem=mt5.ORDER_TYPE_BUY,\n",
    "    comentario=\"3. Compra de Call\"\n",
    ")"
   ]
  },
  {
   "cell_type": "code",
   "execution_count": 7,
   "id": "ebb84bc9",
   "metadata": {},
   "outputs": [
    {
     "name": "stdout",
     "output_type": "stream",
     "text": [
      "Tentando enviar ordem: 4. Venda de Call | Ativo: PETR3F | Volume: 1\n",
      "--- ORDEM ENVIADA COM SUCESSO ---\n",
      "Ticket: 2134534968 | Preço: 33.89 | Volume: 1.0\n"
     ]
    },
    {
     "data": {
      "text/plain": [
       "True"
      ]
     },
     "execution_count": 7,
     "metadata": {},
     "output_type": "execute_result"
    }
   ],
   "source": [
    "# --- Parâmetros Editáveis ---\n",
    "# ATENÇÃO: O ticker da opção muda constantemente! Verifique o ticker vigente no seu MT5.\n",
    "ticker_call = \"PETR3F\"\n",
    "quantidade_opcoes = 1\n",
    "# ----------------------------\n",
    "enviar_ordem(\n",
    "    symbol=ticker_call,\n",
    "    volume=quantidade_opcoes,\n",
    "    tipo_ordem=mt5.ORDER_TYPE_SELL,\n",
    "    comentario=\"4. Venda de Call\"\n",
    ")"
   ]
  },
  {
   "cell_type": "code",
   "execution_count": 16,
   "id": "b263a72b",
   "metadata": {},
   "outputs": [
    {
     "name": "stdout",
     "output_type": "stream",
     "text": [
      "Tentando enviar ordem: 5. Compra de Put | Ativo: USIMS65 | Volume: 150\n",
      "Preço inválido para o ativo 'USIMS65'. Verifique a liquidez ou se o mercado está aberto.\n"
     ]
    },
    {
     "data": {
      "text/plain": [
       "False"
      ]
     },
     "execution_count": 16,
     "metadata": {},
     "output_type": "execute_result"
    }
   ],
   "source": [
    "# --- Parâmetros Editáveis ---\n",
    "# ATENÇÃO: O ticker da opção muda constantemente! Verifique o ticker vigente no seu MT5.\n",
    "# Exemplo para JULHO/25: VALES600 (VALE3, S=Julho, Put, strike R$60.00)\n",
    "ticker_put = \"USIMS65\"\n",
    "quantidade_opcoes = 150\n",
    "# ----------------------------\n",
    "enviar_ordem(\n",
    "    symbol=ticker_put,\n",
    "    volume=quantidade_opcoes,\n",
    "    tipo_ordem=mt5.ORDER_TYPE_BUY,\n",
    "    comentario=\"5. Compra de Put\"\n",
    ")"
   ]
  },
  {
   "cell_type": "code",
   "execution_count": 17,
   "id": "7e6c89fb",
   "metadata": {},
   "outputs": [
    {
     "name": "stdout",
     "output_type": "stream",
     "text": [
      "Tentando enviar ordem: 6. Venda de Put | Ativo: USIMS65 | Volume: 1\n",
      "Preço inválido para o ativo 'USIMS65'. Verifique a liquidez ou se o mercado está aberto.\n"
     ]
    },
    {
     "data": {
      "text/plain": [
       "False"
      ]
     },
     "execution_count": 17,
     "metadata": {},
     "output_type": "execute_result"
    }
   ],
   "source": [
    "# --- Parâmetros Editáveis ---\n",
    "# ATENÇÃO: O ticker da opção muda constantemente! Verifique o ticker vigente no seu MT5.\n",
    "ticker_put = \"USIMS65\"\n",
    "quantidade_opcoes = 1\n",
    "# ----------------------------\n",
    "enviar_ordem(\n",
    "    symbol=ticker_put,\n",
    "    volume=quantidade_opcoes,\n",
    "    tipo_ordem=mt5.ORDER_TYPE_SELL,\n",
    "    comentario=\"6. Venda de Put\"\n",
    ")"
   ]
  },
  {
   "cell_type": "code",
   "execution_count": 24,
   "id": "dcae8b21",
   "metadata": {},
   "outputs": [
    {
     "name": "stdout",
     "output_type": "stream",
     "text": [
      "Tentando enviar ordem: 7. Compra Futuro Ibov | Ativo: WINQ25 | Volume: 1.0\n",
      "--- ORDEM ENVIADA COM SUCESSO ---\n",
      "Ticket: 2132780839 | Preço: 139425.0 | Volume: 1.0\n"
     ]
    },
    {
     "data": {
      "text/plain": [
       "True"
      ]
     },
     "execution_count": 24,
     "metadata": {},
     "output_type": "execute_result"
    }
   ],
   "source": [
    "# --- Parâmetros Editáveis ---\n",
    "# ATENÇÃO: O contrato futuro vence! O contrato vigente para Mini-Índice é WINQ25 (Agosto/25).\n",
    "contrato_ibov = \"WINQ25\"\n",
    "numero_contratos = 1.0\n",
    "# ----------------------------\n",
    "enviar_ordem(\n",
    "    symbol=contrato_ibov,\n",
    "    volume=numero_contratos,\n",
    "    tipo_ordem=mt5.ORDER_TYPE_BUY,\n",
    "    comentario=\"7. Compra Futuro Ibov\"\n",
    ")"
   ]
  },
  {
   "cell_type": "code",
   "execution_count": 25,
   "id": "02749894",
   "metadata": {},
   "outputs": [
    {
     "name": "stdout",
     "output_type": "stream",
     "text": [
      "Tentando enviar ordem: 8. Venda Futuro Ibov | Ativo: WINQ25 | Volume: 1.0\n",
      "--- ORDEM ENVIADA COM SUCESSO ---\n",
      "Ticket: 2132781193 | Preço: 139425.0 | Volume: 1.0\n"
     ]
    },
    {
     "data": {
      "text/plain": [
       "True"
      ]
     },
     "execution_count": 25,
     "metadata": {},
     "output_type": "execute_result"
    }
   ],
   "source": [
    "# --- Parâmetros Editáveis ---\n",
    "# ATENÇÃO: O contrato futuro vence! O contrato vigente para Mini-Índice é WINQ25 (Agosto/25).\n",
    "contrato_ibov = \"WINQ25\"\n",
    "numero_contratos = 1.0\n",
    "# ----------------------------\n",
    "enviar_ordem(\n",
    "    symbol=contrato_ibov,\n",
    "    volume=numero_contratos,\n",
    "    tipo_ordem=mt5.ORDER_TYPE_SELL,\n",
    "    comentario=\"8. Venda Futuro Ibov\"\n",
    ")"
   ]
  },
  {
   "cell_type": "code",
   "execution_count": 26,
   "id": "bef646b5",
   "metadata": {},
   "outputs": [
    {
     "name": "stdout",
     "output_type": "stream",
     "text": [
      "Tentando enviar ordem: 9. Compra Futuro Dolar | Ativo: WDON25 | Volume: 1.0\n",
      "--- ORDEM ENVIADA COM SUCESSO ---\n",
      "Ticket: 2132781540 | Preço: 5505.0 | Volume: 1.0\n"
     ]
    },
    {
     "data": {
      "text/plain": [
       "True"
      ]
     },
     "execution_count": 26,
     "metadata": {},
     "output_type": "execute_result"
    }
   ],
   "source": [
    "# --- Parâmetros Editáveis ---\n",
    "# ATENÇÃO: O contrato futuro vence! O contrato vigente para Mini-Dólar é WDON25 (Julho/25).\n",
    "contrato_dolar = \"WDON25\"\n",
    "numero_contratos = 1.0\n",
    "# ----------------------------\n",
    "enviar_ordem(\n",
    "    symbol=contrato_dolar,\n",
    "    volume=numero_contratos,\n",
    "    tipo_ordem=mt5.ORDER_TYPE_BUY,\n",
    "    comentario=\"9. Compra Futuro Dolar\"\n",
    ")"
   ]
  },
  {
   "cell_type": "code",
   "execution_count": 27,
   "id": "f4643619",
   "metadata": {},
   "outputs": [
    {
     "name": "stdout",
     "output_type": "stream",
     "text": [
      "Tentando enviar ordem: 10. Venda Futuro Dolar | Ativo: WDON25 | Volume: 1.0\n",
      "--- ORDEM ENVIADA COM SUCESSO ---\n",
      "Ticket: 2132781668 | Preço: 5504.0 | Volume: 1.0\n"
     ]
    },
    {
     "data": {
      "text/plain": [
       "True"
      ]
     },
     "execution_count": 27,
     "metadata": {},
     "output_type": "execute_result"
    }
   ],
   "source": [
    "# --- Parâmetros Editáveis ---\n",
    "# ATENÇÃO: O contrato futuro vence! O contrato vigente para Mini-Dólar é WDON25 (Julho/25).\n",
    "contrato_dolar = \"WDON25\"\n",
    "numero_contratos = 1.0\n",
    "# ----------------------------\n",
    "enviar_ordem(\n",
    "    symbol=contrato_dolar,\n",
    "    volume=numero_contratos,\n",
    "    tipo_ordem=mt5.ORDER_TYPE_SELL,\n",
    "    comentario=\"10. Venda Futuro Dolar\"\n",
    ")"
   ]
  },
  {
   "cell_type": "code",
   "execution_count": 28,
   "id": "b707c932",
   "metadata": {},
   "outputs": [
    {
     "name": "stdout",
     "output_type": "stream",
     "text": [
      "Tentando enviar ordem: 11. Compra ETF Imobiliario | Ativo: XFIX11 | Volume: 200.0\n",
      "--- ORDEM ENVIADA COM SUCESSO ---\n",
      "Ticket: 2132781806 | Preço: 12.27 | Volume: 200.0\n"
     ]
    },
    {
     "data": {
      "text/plain": [
       "True"
      ]
     },
     "execution_count": 28,
     "metadata": {},
     "output_type": "execute_result"
    }
   ],
   "source": [
    "# --- Parâmetros Editáveis ---\n",
    "ativo_etf = \"XFIX11\"\n",
    "volume_compra = 200.0\n",
    "# ----------------------------\n",
    "enviar_ordem(\n",
    "    symbol=ativo_etf,\n",
    "    volume=volume_compra,\n",
    "    tipo_ordem=mt5.ORDER_TYPE_BUY,\n",
    "    comentario=\"11. Compra ETF Imobiliario\"\n",
    ")"
   ]
  },
  {
   "cell_type": "code",
   "execution_count": 29,
   "id": "3e44cd25",
   "metadata": {},
   "outputs": [
    {
     "name": "stdout",
     "output_type": "stream",
     "text": [
      "Tentando enviar ordem: 12. Compra ETF Internacional | Ativo: IVVB11 | Volume: 50.0\n",
      "--- ORDEM ENVIADA COM SUCESSO ---\n",
      "Ticket: 2132782132 | Preço: 378.52 | Volume: 50.0\n"
     ]
    },
    {
     "data": {
      "text/plain": [
       "True"
      ]
     },
     "execution_count": 29,
     "metadata": {},
     "output_type": "execute_result"
    }
   ],
   "source": [
    "# --- Parâmetros Editáveis ---\n",
    "ativo_etf = \"IVVB11\"\n",
    "volume_compra = 50.0\n",
    "# ----------------------------\n",
    "enviar_ordem(\n",
    "    symbol=ativo_etf,\n",
    "    volume=volume_compra,\n",
    "    tipo_ordem=mt5.ORDER_TYPE_BUY,\n",
    "    comentario=\"12. Compra ETF Internacional\"\n",
    ")"
   ]
  },
  {
   "cell_type": "code",
   "execution_count": 9,
   "id": "5ab965a5",
   "metadata": {},
   "outputs": [
    {
     "name": "stdout",
     "output_type": "stream",
     "text": [
      "Tentando enviar ordem: 13. Compra ETF Renda Fixa | Ativo: IMAB11 | Volume: 100.0\n",
      "O ativo 'IMAB11' não foi encontrado.\n"
     ]
    },
    {
     "data": {
      "text/plain": [
       "False"
      ]
     },
     "execution_count": 9,
     "metadata": {},
     "output_type": "execute_result"
    }
   ],
   "source": [
    "# --- Parâmetros Editáveis ---\n",
    "ativo_etf = \"IMAB11\"\n",
    "volume_compra = 100.0\n",
    "# ----------------------------\n",
    "enviar_ordem(\n",
    "    symbol=ativo_etf,\n",
    "    volume=volume_compra,\n",
    "    tipo_ordem=mt5.ORDER_TYPE_BUY,\n",
    "    comentario=\"13. Compra ETF Renda Fixa\"\n",
    ")"
   ]
  },
  {
   "cell_type": "code",
   "execution_count": 13,
   "id": "732e70a3",
   "metadata": {},
   "outputs": [],
   "source": [
    "terminal = mt5.terminal_info()"
   ]
  }
 ],
 "metadata": {
  "kernelspec": {
   "display_name": "Python 3",
   "language": "python",
   "name": "python3"
  },
  "language_info": {
   "codemirror_mode": {
    "name": "ipython",
    "version": 3
   },
   "file_extension": ".py",
   "mimetype": "text/x-python",
   "name": "python",
   "nbconvert_exporter": "python",
   "pygments_lexer": "ipython3",
   "version": "3.11.9"
  }
 },
 "nbformat": 4,
 "nbformat_minor": 5
}
